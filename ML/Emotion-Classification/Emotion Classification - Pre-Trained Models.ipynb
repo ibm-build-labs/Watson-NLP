{
 "cells": [
  {
   "cell_type": "code",
   "execution_count": 1,
   "id": "d4a127a4",
   "metadata": {},
   "outputs": [],
   "source": [
    "# @hidden_cell\n",
    "# The project token is an authorization token that is used to access project resources like data sources, connections, and used by platform APIs.\n",
    "from project_lib import Project\n",
    "project = Project(project_id='ae1a755d-e162-4f07-9f5a-130d2280e78e', project_access_token='p-aa90b9b21de435c3f4c94494a24b5c5e69d030f8')\n",
    "pc = project.project_context\n"
   ]
  },
  {
   "cell_type": "markdown",
   "id": "3faa04a0",
   "metadata": {},
   "source": [
    "# Classifying emotions in movie dialogue using Watson NLP - pre-trained models"
   ]
  },
  {
   "cell_type": "markdown",
   "id": "28f7aeed",
   "metadata": {},
   "source": [
    "This notebook demonstrates how to classify emotions in tweets using Watson NLP python library\n",
    "\n",
    "### What you'll learn in this notebook\n",
    "Watson NLP offers so-called blocks for various NLP tasks. This notebook shows:\n",
    "\n",
    "- **Syntax analysis** with the _Syntax block_ for English (`syntax_izumo_en_stock`). This block performs tokenization, lemmatization, parts of speech tagging, and dependency parsing on raw input documents so that custom models can properly classify documents.\n",
    "- **Emotion classification** with the _Ensemble emotion workflow_ (`ensemble_classification-wf_en_emotion-stock`) and the _Aggregated emotion workflow_ (`aggregated_classification-wf_en_emotion-stock`). These model workflow classify text into five emotions: \"sadness\", \"joy\", \"anger\", \"fear\", \"disgust\".\n",
    "\n",
    "## Table of Contents\n",
    "\n",
    "1.  [Before you start](#beforeYouStart)\n",
    "1.\t[Data Loading](#loadData)\n",
    "1.  [Data Processing](#dataProcessing)\n",
    "    1. [Data formatting](#dataFormat)\n",
    "    1. [Train test split](#trainTestSplit) \n",
    "1. [Running pretrained models](#pretrainedOOTB)\n",
    "    1. [Emotion model](#ensemble)\n",
    "1.  [Summary](#summary)"
   ]
  },
  {
   "cell_type": "markdown",
   "id": "6b63d308",
   "metadata": {},
   "source": [
    "<a id=\"beforeYouStart\"></a>\n",
    "## 1. Before you start"
   ]
  },
  {
   "cell_type": "markdown",
   "id": "7c5d4502",
   "metadata": {},
   "source": [
    "<div class=\"alert alert-block alert-danger\">\n",
    "<b>Stop kernel of other notebooks.</b></div>\n",
    "\n",
    "**Note:** If you have other notebooks currently running with the _Default Python 3.8 + Watson NLP XS_ environment, **stop their kernels** before running this notebook. All these notebooks share the same runtime environment, and if they are running in parallel, you may encounter memory issues. To stop the kernel of another notebook, open that notebook, and select _File > Stop Kernel_.\n",
    "\n",
    "<div class=\"alert alert-block alert-warning\">\n",
    "<b>Set Project token.</b></div>\n",
    "\n",
    "Before you can begin working on this notebook in Watson Studio in Cloud Pak for Data as a Service, you need to ensure that the project token is set so that you can access the project assets via the notebook.\n",
    "\n",
    "When this notebook is added to the project, a project access token should be inserted at the top of the notebook in a code cell. If you do not see the cell above, add the token to the notebook by clicking **More > Insert project token** from the notebook action bar.  By running the inserted hidden code cell, a project object is created that you can use to access project resources.\n",
    "\n",
    "![ws-project.mov](https://media.giphy.com/media/jSVxX2spqwWF9unYrs/giphy.gif)\n",
    "\n",
    "<div class=\"alert alert-block alert-info\">\n",
    "<b>Tip:</b> Cell execution</div>\n",
    "\n",
    "Note that you can step through the notebook execution cell by cell, by selecting Shift-Enter. Or you can execute the entire notebook by selecting **Cell -> Run All** from the menu."
   ]
  },
  {
   "cell_type": "markdown",
   "id": "2e2a0256",
   "metadata": {},
   "source": [
    "<span style=\"color:blueviolet\">Begin by importing and initializing some helper libs that are used throughout the notebook.</span>\n"
   ]
  },
  {
   "cell_type": "code",
   "execution_count": 2,
   "id": "6c165050",
   "metadata": {},
   "outputs": [],
   "source": [
    "import json\n",
    "import matplotlib.pyplot as plt\n",
    "import pandas as pd\n",
    "import seaborn as sns\n",
    "import tensorflow as tf\n",
    "import watson_nlp\n",
    "import watson_nlp.data_model as dm\n",
    "\n",
    "from sklearn.model_selection import train_test_split\n",
    "\n",
    "from watson_core.toolkit import fileio\n",
    "from watson_core.toolkit.quality_evaluation import QualityEvaluator, EvalTypes\n",
    "\n",
    "from watson_nlp.blocks.classification.bert import BERT\n",
    "from watson_nlp.blocks.classification.cnn import CNN\n",
    "from watson_core.data_model.streams.resolver import DataStreamResolver\n",
    "from watson_core.data_model.streams.resolver import DataStream\n",
    "from watson_nlp.blocks.classification.svm import SVM\n",
    "from watson_nlp.blocks.vectorization.tfidf import TFIDF"
   ]
  },
  {
   "cell_type": "code",
   "execution_count": 3,
   "id": "1dabb6de",
   "metadata": {},
   "outputs": [],
   "source": [
    "pd.set_option('display.max_colwidth', 0)"
   ]
  },
  {
   "cell_type": "markdown",
   "id": "d3fd319c",
   "metadata": {},
   "source": [
    "<span style=\"color:maroon\">Printing either `block_models` or `workflow_models` will display a list of pretrained models available in the current version of Watson NLP</span>"
   ]
  },
  {
   "cell_type": "code",
   "execution_count": 4,
   "id": "f4645052",
   "metadata": {},
   "outputs": [],
   "source": [
    "block_models = watson_nlp.get_models().get_alias_models()\n",
    "workflow_models = watson_nlp.get_workflows().get_alias_models()"
   ]
  },
  {
   "cell_type": "markdown",
   "id": "465ca956",
   "metadata": {},
   "source": [
    "<a id=\"loadData\"></a>\n",
    "## 2. Data Loading\n",
    "\n",
    "The dataset contains over seven thousand quotations from tweets. The labeled emotions in the dataset are \"anger\", \"sadness\", \"fear\", \"joy\", and \"disgust\". Because some quotations have multiple sentences, they can be regarded as documents. The dataset is available internally at [Github Repo](https://github.ibm.com/hcbt/Watson-NLP/blob/main/Emotion-Classification/emotion_tweets.csv). The original source of this dataset is from [Kaggle](https://www.kaggle.com/datasets/anjaneyatripathi/emotion-classification-nlp?select=emotion-labels-train.csv) with a CC0: Public Domain license.\n",
    "<br><br>\n",
    "Any other emotion classification dataset may be used in substitution for the workflow outlined in this notebook."
   ]
  },
  {
   "cell_type": "markdown",
   "id": "6bcbb928",
   "metadata": {},
   "source": [
    "Data format:\n",
    "- .csv file that is loaded as a Pandas DataFrame with two columns, `text` and `label`\n",
    "\n",
    "Data dictionary:\n",
    "- text: string; text of tweets; this will be used as the input for models\n",
    "- label: string; emotion class labels; this will be the what the model is trying to accurately predict"
   ]
  },
  {
   "cell_type": "code",
   "execution_count": 6,
   "id": "8168a2e7",
   "metadata": {},
   "outputs": [],
   "source": [
    "# load data set into a dataframe\n",
    "buffer = project.get_file(\"emotion-tweets.csv\")\n",
    "df = pd.read_csv(buffer)"
   ]
  },
  {
   "cell_type": "markdown",
   "id": "b6042dd9",
   "metadata": {},
   "source": [
    "<a id=\"dataProcessing\"></a>\n",
    "## 3. Data Processing"
   ]
  },
  {
   "cell_type": "markdown",
   "id": "95dbaf89",
   "metadata": {},
   "source": [
    "<a id=\"dataFormat\"></a>\n",
    "### 3.1. Data formatting\n",
    "\n",
    "<span style=\"color:blue\">Data prepared for Watson NLP models need to be formatted in such a way that there is a `text` feature column and a `labels` label column. The `labels` column needs have type `list`.</span>"
   ]
  },
  {
   "cell_type": "code",
   "execution_count": 7,
   "id": "d262d5ff",
   "metadata": {},
   "outputs": [],
   "source": [
    "def convertToList(x):\n",
    "    return [x]"
   ]
  },
  {
   "cell_type": "code",
   "execution_count": 8,
   "id": "1989005f",
   "metadata": {},
   "outputs": [],
   "source": [
    "df['label'] = df['label'].apply(convertToList)\n",
    "df = df.rename(columns={'label':'labels'})"
   ]
  },
  {
   "cell_type": "markdown",
   "id": "5c194cdc",
   "metadata": {},
   "source": [
    "<a id=\"trainTestSplit\"></a>\n",
    "### 3.2. Train Test Split\n",
    "\n",
    "<div class=\"alert alert-block alert-info\">\n",
    "<b>Tip:</b> If you want to carry out emotion analysis on any other dataset, you should first upload the dataset into the project and then update the name of the file in the next cell</div>\n",
    "<br>\n",
    "\n",
    "<span style=\"color:blue\">The data will be split into an 80/20 train-test split using sklearn and then exported into JSON format for the Watson NLP models to consume. Additionally, the column headers will be renamed to the expected `text` and `labels` names, with the labels having type list.</span>"
   ]
  },
  {
   "cell_type": "code",
   "execution_count": 9,
   "id": "c4b73c5b",
   "metadata": {},
   "outputs": [],
   "source": [
    "df_train, df_test = train_test_split(df, test_size=0.2)"
   ]
  },
  {
   "cell_type": "code",
   "execution_count": 10,
   "id": "0b5b3db1",
   "metadata": {},
   "outputs": [],
   "source": [
    "df_train.to_json('df_train.json', orient='records')\n",
    "df_test.to_json('df_test.json', orient='records')"
   ]
  },
  {
   "cell_type": "code",
   "execution_count": 11,
   "id": "61ee88cb",
   "metadata": {},
   "outputs": [
    {
     "data": {
      "text/html": [
       "<div>\n",
       "<style scoped>\n",
       "    .dataframe tbody tr th:only-of-type {\n",
       "        vertical-align: middle;\n",
       "    }\n",
       "\n",
       "    .dataframe tbody tr th {\n",
       "        vertical-align: top;\n",
       "    }\n",
       "\n",
       "    .dataframe thead th {\n",
       "        text-align: right;\n",
       "    }\n",
       "</style>\n",
       "<table border=\"1\" class=\"dataframe\">\n",
       "  <thead>\n",
       "    <tr style=\"text-align: right;\">\n",
       "      <th></th>\n",
       "      <th>text</th>\n",
       "      <th>labels</th>\n",
       "    </tr>\n",
       "  </thead>\n",
       "  <tbody>\n",
       "    <tr>\n",
       "      <th>378</th>\n",
       "      <td>@RobRiggle @joelmchale @NFLonFOX I still can't get jimmy garoppolo out of my head and it's been almost 3 weeks. Thanks a lot!</td>\n",
       "      <td>[joy]</td>\n",
       "    </tr>\n",
       "    <tr>\n",
       "      <th>2790</th>\n",
       "      <td>pray for my boy huff</td>\n",
       "      <td>[anger]</td>\n",
       "    </tr>\n",
       "    <tr>\n",
       "      <th>3652</th>\n",
       "      <td>@TurtleTitan2003 (She laughed a bit. Of course it was! Aria shook her head, calming her mirth so she could listen to Mikey.) No, actually. +</td>\n",
       "      <td>[joy]</td>\n",
       "    </tr>\n",
       "    <tr>\n",
       "      <th>6211</th>\n",
       "      <td>Going off reports on Sky, Stoke played ok tonight. Think i'll stay off the messageboard tonight though -it will be grim on there :/</td>\n",
       "      <td>[sadness]</td>\n",
       "    </tr>\n",
       "    <tr>\n",
       "      <th>484</th>\n",
       "      <td>Possible magazines over against put with versus thy joviality conjunction shower quotient sufficiently: BQAvtja</td>\n",
       "      <td>[joy]</td>\n",
       "    </tr>\n",
       "    <tr>\n",
       "      <th>...</th>\n",
       "      <td>...</td>\n",
       "      <td>...</td>\n",
       "    </tr>\n",
       "    <tr>\n",
       "      <th>6984</th>\n",
       "      <td>Might just leave and aggravate bae</td>\n",
       "      <td>[anger]</td>\n",
       "    </tr>\n",
       "    <tr>\n",
       "      <th>4293</th>\n",
       "      <td>So I survived spin....trying to get down the stairs was hilarious tho #jellylegs 😂😂</td>\n",
       "      <td>[joy]</td>\n",
       "    </tr>\n",
       "    <tr>\n",
       "      <th>4716</th>\n",
       "      <td>the day they disclosed they caught her googling cholroform we were fucking aghast</td>\n",
       "      <td>[fear]</td>\n",
       "    </tr>\n",
       "    <tr>\n",
       "      <th>5782</th>\n",
       "      <td>@HotpointUK 'customer service ' beyond appalling. Faulty dryer replacement breaks within wks no parts for 3 wks. Engineers no show.</td>\n",
       "      <td>[anger]</td>\n",
       "    </tr>\n",
       "    <tr>\n",
       "      <th>3645</th>\n",
       "      <td>#blackish always has me #rollin #hilarious</td>\n",
       "      <td>[joy]</td>\n",
       "    </tr>\n",
       "  </tbody>\n",
       "</table>\n",
       "<p>5681 rows × 2 columns</p>\n",
       "</div>"
      ],
      "text/plain": [
       "                                                                                                                                              text  \\\n",
       "378   @RobRiggle @joelmchale @NFLonFOX I still can't get jimmy garoppolo out of my head and it's been almost 3 weeks. Thanks a lot!                  \n",
       "2790  pray for my boy huff                                                                                                                           \n",
       "3652  @TurtleTitan2003 (She laughed a bit. Of course it was! Aria shook her head, calming her mirth so she could listen to Mikey.) No, actually. +   \n",
       "6211  Going off reports on Sky, Stoke played ok tonight. Think i'll stay off the messageboard tonight though -it will be grim on there :/            \n",
       "484   Possible magazines over against put with versus thy joviality conjunction shower quotient sufficiently: BQAvtja                                \n",
       "...                                                                                                               ...                                \n",
       "6984  Might just leave and aggravate bae                                                                                                             \n",
       "4293  So I survived spin....trying to get down the stairs was hilarious tho #jellylegs 😂😂                                                            \n",
       "4716  the day they disclosed they caught her googling cholroform we were fucking aghast                                                              \n",
       "5782  @HotpointUK 'customer service ' beyond appalling. Faulty dryer replacement breaks within wks no parts for 3 wks. Engineers no show.            \n",
       "3645  #blackish always has me #rollin #hilarious                                                                                                     \n",
       "\n",
       "         labels  \n",
       "378   [joy]      \n",
       "2790  [anger]    \n",
       "3652  [joy]      \n",
       "6211  [sadness]  \n",
       "484   [joy]      \n",
       "...     ...      \n",
       "6984  [anger]    \n",
       "4293  [joy]      \n",
       "4716  [fear]     \n",
       "5782  [anger]    \n",
       "3645  [joy]      \n",
       "\n",
       "[5681 rows x 2 columns]"
      ]
     },
     "execution_count": 11,
     "metadata": {},
     "output_type": "execute_result"
    }
   ],
   "source": [
    "df_train"
   ]
  },
  {
   "cell_type": "markdown",
   "id": "bc8f3bc8",
   "metadata": {},
   "source": [
    "<a id=\"pretrainedOOTB\"></a>\n",
    "## 4. Running pretrained models\n",
    "<span style=\"color:blue\">Watson NLP has two pretrained/prebuilt emotion classificaiton models using the workflow system. \n",
    "The following examples will use *\\\"Such a sweet boy. But after much thought and careful consideration, I've decided that the ruler for the next ten thousand years is going to have to be... me.\\\"* as a single input test with the expected label to be *\\\"joy\\\"*.</span>"
   ]
  },
  {
   "cell_type": "markdown",
   "id": "8938f62b",
   "metadata": {},
   "source": [
    "<a id=\"ensemble\"></a>\n",
    "### Ensemble emotion model\n",
    "<br>\n",
    "<span style=\"color:blue\">Ensemble emotion model will perform document emotion classification. [Docs](https://pages.github.ibm.com/ai-foundation/watson-nlp-documentation/workflow_emotion_classification.html)</span>"
   ]
  },
  {
   "cell_type": "code",
   "execution_count": 88,
   "id": "0988a46a",
   "metadata": {},
   "outputs": [
    {
     "name": "stderr",
     "output_type": "stream",
     "text": [
      "./build/lib/watson_nlp/workflows/classification/ensemble.py:196: DeprecationWarning: Call to deprecated class Ensemble. (The `Ensemble` class will be deprecated in next major release. Please try using the new `watson_nlp.workflows.classification.GenericEnsemble` class instead. We will continue to provide backwards compatibility for models trained with this `Ensemble` class) -- Deprecated since version 4.0.0.\n"
     ]
    }
   ],
   "source": [
    "# Load the Emotion workflow model for English\n",
    "emotion_model = watson_nlp.load(watson_nlp.download('emotion_aggregated-workflow_en_stock'))"
   ]
  },
  {
   "cell_type": "markdown",
   "id": "d064dbdc",
   "metadata": {},
   "source": [
    "<span style=\"color:blueviolet\">The result of the Ensemble model returns a list of dictionaries that indicate each label and its confidence score. The highest confidence score deems the label of prediction.</span>"
   ]
  },
  {
   "cell_type": "code",
   "execution_count": 15,
   "id": "272b302a",
   "metadata": {},
   "outputs": [
    {
     "name": "stdout",
     "output_type": "stream",
     "text": [
      "{\n",
      "  \"emotion_predictions\": [\n",
      "    {\n",
      "      \"emotion\": {\n",
      "        \"anger\": 0.08250845323441401,\n",
      "        \"disgust\": 0.016781293316109277,\n",
      "        \"fear\": 0.060853523846089226,\n",
      "        \"joy\": 0.4856539209058151,\n",
      "        \"sadness\": 0.12966796558237437\n",
      "      },\n",
      "      \"target\": \"\",\n",
      "      \"emotion_mentions\": [\n",
      "        {\n",
      "          \"span\": {\n",
      "            \"begin\": 0,\n",
      "            \"end\": 17,\n",
      "            \"text\": \"Such a sweet boy.\"\n",
      "          },\n",
      "          \"emotion\": {\n",
      "            \"anger\": 0.013534160558430649,\n",
      "            \"disgust\": 0.004069027115209876,\n",
      "            \"fear\": 0.010137621332846307,\n",
      "            \"joy\": 0.9775093739682978,\n",
      "            \"sadness\": 0.04513222549223539\n",
      "          }\n",
      "        },\n",
      "        {\n",
      "          \"span\": {\n",
      "            \"begin\": 18,\n",
      "            \"end\": 153,\n",
      "            \"text\": \"But after much thought and careful consideration, I've decided that the ruler for the next ten thousand years is going to have to be...\"\n",
      "          },\n",
      "          \"emotion\": {\n",
      "            \"anger\": 0.16116835041479632,\n",
      "            \"disgust\": 0.01899167029610412,\n",
      "            \"fear\": 0.07533406620760534,\n",
      "            \"joy\": 0.12389563520043864,\n",
      "            \"sadness\": 0.13916536951155373\n",
      "          }\n",
      "        },\n",
      "        {\n",
      "          \"span\": {\n",
      "            \"begin\": 154,\n",
      "            \"end\": 157,\n",
      "            \"text\": \"me.\"\n",
      "          },\n",
      "          \"emotion\": {\n",
      "            \"anger\": 0.07282284873001504,\n",
      "            \"disgust\": 0.027283182537013836,\n",
      "            \"fear\": 0.09708888399781604,\n",
      "            \"joy\": 0.35555675354870886,\n",
      "            \"sadness\": 0.20470630174333398\n",
      "          }\n",
      "        }\n",
      "      ]\n",
      "    }\n",
      "  ],\n",
      "  \"producer_id\": {\n",
      "    \"name\": \"Ensemble Aggregated Emotion Workflow\",\n",
      "    \"version\": \"0.0.1\"\n",
      "  }\n",
      "}\n"
     ]
    }
   ],
   "source": [
    "# Run the Emotion model on a single document\n",
    "emotion_result = emotion_model.run(\"Such a sweet boy. But after much thought and careful consideration, I've decided that the ruler for the next ten thousand years is going to have to be... me. \")\n",
    "print(emotion_result)"
   ]
  },
  {
   "cell_type": "markdown",
   "id": "e9c1ea5e",
   "metadata": {},
   "source": [
    "<span style=\"color:blueviolet\">The Ensemble model also has the `model.evaluate_quality()` function, which allows the evaluation of an entire test set. The result returns a dictionary of dictionaries that map each label to its confusion matrix, precision and recall, and f1 score.</span>"
   ]
  },
  {
   "cell_type": "code",
   "execution_count": 16,
   "id": "ae318b72",
   "metadata": {
    "scrolled": true
   },
   "outputs": [
    {
     "name": "stderr",
     "output_type": "stream",
     "text": [
      "WARNING: Only Micro_avg metrics could be calculated based on the information available for this block type.\n"
     ]
    },
    {
     "name": "stdout",
     "output_type": "stream",
     "text": [
      "{\n",
      "    \"per_class_confusion_matrix\": {\n",
      "        \"sadness\": {\n",
      "            \"true_positive\": 174,\n",
      "            \"false_positive\": 272,\n",
      "            \"false_negative\": 132,\n",
      "            \"precision\": 0.3901345291479821,\n",
      "            \"recall\": 0.5686274509803921,\n",
      "            \"f1\": 0.46276595744680854\n",
      "        },\n",
      "        \"anger\": {\n",
      "            \"true_positive\": 89,\n",
      "            \"false_positive\": 56,\n",
      "            \"false_negative\": 259,\n",
      "            \"precision\": 0.6137931034482759,\n",
      "            \"recall\": 0.2557471264367816,\n",
      "            \"f1\": 0.36105476673427994\n",
      "        },\n",
      "        \"fear\": {\n",
      "            \"true_positive\": 123,\n",
      "            \"false_positive\": 46,\n",
      "            \"false_negative\": 331,\n",
      "            \"precision\": 0.727810650887574,\n",
      "            \"recall\": 0.2709251101321586,\n",
      "            \"f1\": 0.39486356340288925\n",
      "        },\n",
      "        \"joy\": {\n",
      "            \"true_positive\": 257,\n",
      "            \"false_positive\": 355,\n",
      "            \"false_negative\": 56,\n",
      "            \"precision\": 0.4199346405228758,\n",
      "            \"recall\": 0.8210862619808307,\n",
      "            \"f1\": 0.5556756756756757\n",
      "        },\n",
      "        \"disgust\": {\n",
      "            \"true_positive\": 0,\n",
      "            \"false_positive\": 49,\n",
      "            \"false_negative\": 0,\n",
      "            \"precision\": 0.0,\n",
      "            \"recall\": 0.0,\n",
      "            \"f1\": 0.0\n",
      "        }\n",
      "    },\n",
      "    \"macro_true_positive\": null,\n",
      "    \"macro_false_positive\": null,\n",
      "    \"macro_false_negative\": null,\n",
      "    \"macro_precision\": 0.4303345848013415,\n",
      "    \"macro_recall\": 0.3832771899060326,\n",
      "    \"macro_f1\": 0.3548719926519307,\n",
      "    \"micro_precision\": 0.4524982406755806,\n",
      "    \"micro_recall\": 0.4524982406755806,\n",
      "    \"micro_f1\": 0.4524982406755806,\n",
      "    \"overall_tp\": 643,\n",
      "    \"overall_fp\": 778,\n",
      "    \"overall_fn\": 778,\n",
      "    \"detailed_metrics\": [],\n",
      "    \"micro_precision_partial_match\": 0.0,\n",
      "    \"micro_recall_partial_match\": 0.0,\n",
      "    \"micro_f1_partial_match\": 0.0\n",
      "}\n"
     ]
    }
   ],
   "source": [
    "test_data_file = \"df_test.json\"\n",
    "\n",
    "quality_report = emotion_model.evaluate_quality(test_data_file)\n",
    "print(json.dumps(quality_report, indent=4))"
   ]
  },
  {
   "cell_type": "markdown",
   "id": "a016fe32",
   "metadata": {},
   "source": [
    "Based on the micro precision, recall, and f1 score, this Ensemble model did not perform well on our test data. However hyperparameter tuning of the pre-trained model may improve its performance.\n",
    "<br><br>\n",
    "*The micro metrics are taken here instead of the macro metrics because of the class imbalance in the data."
   ]
  },
  {
   "cell_type": "markdown",
   "id": "d8fe1fab",
   "metadata": {},
   "source": [
    "<span style=\"color:blue\">By parsing out the results of the model runs, we can visualize the difference between predicted labels and actual labels.</span>"
   ]
  },
  {
   "cell_type": "code",
   "execution_count": 73,
   "id": "37faebed",
   "metadata": {},
   "outputs": [],
   "source": [
    "def run_emotion(text):\n",
    "    emotion_result = emotion_model.run(text)\n",
    "    #help(emotion_result.emotion_predictions[0].emotion)\n",
    "    return emotion_result.emotion_predictions[0].emotion.to_dict()"
   ]
  },
  {
   "cell_type": "code",
   "execution_count": 18,
   "id": "98f3217c",
   "metadata": {},
   "outputs": [],
   "source": [
    "test_df = pd.read_json(test_data_file)\n",
    "test_df['label'] = test_df['labels'].str[0]\n",
    "test_df['label'] = test_df['label'].replace({'happiness':'joy'})"
   ]
  },
  {
   "cell_type": "code",
   "execution_count": 74,
   "id": "c34e5461",
   "metadata": {},
   "outputs": [],
   "source": [
    "output = []\n",
    "for line in test_df['text']:\n",
    "    output.append([line, run_emotion(line)])"
   ]
  },
  {
   "cell_type": "code",
   "execution_count": 83,
   "id": "515b2689",
   "metadata": {},
   "outputs": [
    {
     "data": {
      "text/html": [
       "<div>\n",
       "<style scoped>\n",
       "    .dataframe tbody tr th:only-of-type {\n",
       "        vertical-align: middle;\n",
       "    }\n",
       "\n",
       "    .dataframe tbody tr th {\n",
       "        vertical-align: top;\n",
       "    }\n",
       "\n",
       "    .dataframe thead th {\n",
       "        text-align: right;\n",
       "    }\n",
       "</style>\n",
       "<table border=\"1\" class=\"dataframe\">\n",
       "  <thead>\n",
       "    <tr style=\"text-align: right;\">\n",
       "      <th></th>\n",
       "      <th>text</th>\n",
       "      <th>anger</th>\n",
       "      <th>disgust</th>\n",
       "      <th>fear</th>\n",
       "      <th>joy</th>\n",
       "      <th>sadness</th>\n",
       "      <th>highest_emotion</th>\n",
       "    </tr>\n",
       "  </thead>\n",
       "  <tbody>\n",
       "    <tr>\n",
       "      <th>0</th>\n",
       "      <td>I hope my hustle don't offend nobody</td>\n",
       "      <td>0.070598</td>\n",
       "      <td>0.064689</td>\n",
       "      <td>0.095394</td>\n",
       "      <td>0.032086</td>\n",
       "      <td>0.607643</td>\n",
       "      <td>sadness</td>\n",
       "    </tr>\n",
       "    <tr>\n",
       "      <th>1</th>\n",
       "      <td>@charles_gaba @NateSilver538 @DavMicRot @FiveThirtyEight A litany of name-calling. How dull.</td>\n",
       "      <td>0.037618</td>\n",
       "      <td>0.077156</td>\n",
       "      <td>0.062490</td>\n",
       "      <td>0.378703</td>\n",
       "      <td>0.413911</td>\n",
       "      <td>sadness</td>\n",
       "    </tr>\n",
       "    <tr>\n",
       "      <th>2</th>\n",
       "      <td>Right i may be an #sufc fan and the football maybe shit but marcos rojo for #mufc has had a shocking start he's just dreadful</td>\n",
       "      <td>0.437432</td>\n",
       "      <td>0.277860</td>\n",
       "      <td>0.100173</td>\n",
       "      <td>0.006432</td>\n",
       "      <td>0.138271</td>\n",
       "      <td>anger</td>\n",
       "    </tr>\n",
       "    <tr>\n",
       "      <th>3</th>\n",
       "      <td>He's intimidated by my work ethic I think he knows I want his spot 🤔😉😂😂</td>\n",
       "      <td>0.062003</td>\n",
       "      <td>0.084426</td>\n",
       "      <td>0.445752</td>\n",
       "      <td>0.083973</td>\n",
       "      <td>0.111409</td>\n",
       "      <td>fear</td>\n",
       "    </tr>\n",
       "    <tr>\n",
       "      <th>4</th>\n",
       "      <td>@AllredMD @KerryCallen @thismanthispete Kirby's Black Panther in a cool animated panel.</td>\n",
       "      <td>0.015538</td>\n",
       "      <td>0.012702</td>\n",
       "      <td>0.033327</td>\n",
       "      <td>0.593795</td>\n",
       "      <td>0.089334</td>\n",
       "      <td>joy</td>\n",
       "    </tr>\n",
       "    <tr>\n",
       "      <th>...</th>\n",
       "      <td>...</td>\n",
       "      <td>...</td>\n",
       "      <td>...</td>\n",
       "      <td>...</td>\n",
       "      <td>...</td>\n",
       "      <td>...</td>\n",
       "      <td>...</td>\n",
       "    </tr>\n",
       "    <tr>\n",
       "      <th>1416</th>\n",
       "      <td>@bolain_branden @GrimsToyShow grim should find broken Matt hardy because he can delete everything lol</td>\n",
       "      <td>0.051286</td>\n",
       "      <td>0.244470</td>\n",
       "      <td>0.482605</td>\n",
       "      <td>0.018281</td>\n",
       "      <td>0.224427</td>\n",
       "      <td>fear</td>\n",
       "    </tr>\n",
       "    <tr>\n",
       "      <th>1417</th>\n",
       "      <td>OOOOOOOOH MY GOD UUUUGGGGHHHHHHHHH #rage</td>\n",
       "      <td>0.494773</td>\n",
       "      <td>0.039164</td>\n",
       "      <td>0.078011</td>\n",
       "      <td>0.304176</td>\n",
       "      <td>0.069942</td>\n",
       "      <td>anger</td>\n",
       "    </tr>\n",
       "    <tr>\n",
       "      <th>1418</th>\n",
       "      <td>God, I've been so physically weak the whole day. So much shaking :(</td>\n",
       "      <td>0.060083</td>\n",
       "      <td>0.023595</td>\n",
       "      <td>0.394856</td>\n",
       "      <td>0.088114</td>\n",
       "      <td>0.652688</td>\n",
       "      <td>sadness</td>\n",
       "    </tr>\n",
       "    <tr>\n",
       "      <th>1419</th>\n",
       "      <td>@MarkTOByrne I offered @WholeFoods @amazon @CheapAir gold or silver but they said Nah... #bitcoin #snap</td>\n",
       "      <td>0.056611</td>\n",
       "      <td>0.038070</td>\n",
       "      <td>0.064140</td>\n",
       "      <td>0.476529</td>\n",
       "      <td>0.214435</td>\n",
       "      <td>joy</td>\n",
       "    </tr>\n",
       "    <tr>\n",
       "      <th>1420</th>\n",
       "      <td>Listening to Joey really helps me and my anger.</td>\n",
       "      <td>0.812485</td>\n",
       "      <td>0.008339</td>\n",
       "      <td>0.011402</td>\n",
       "      <td>0.437676</td>\n",
       "      <td>0.048700</td>\n",
       "      <td>anger</td>\n",
       "    </tr>\n",
       "  </tbody>\n",
       "</table>\n",
       "<p>1421 rows × 7 columns</p>\n",
       "</div>"
      ],
      "text/plain": [
       "                                                                                                                               text  \\\n",
       "0     I hope my hustle don't offend nobody                                                                                            \n",
       "1     @charles_gaba @NateSilver538 @DavMicRot @FiveThirtyEight A litany of name-calling. How dull.                                    \n",
       "2     Right i may be an #sufc fan and the football maybe shit but marcos rojo for #mufc has had a shocking start he's just dreadful   \n",
       "3     He's intimidated by my work ethic I think he knows I want his spot 🤔😉😂😂                                                         \n",
       "4     @AllredMD @KerryCallen @thismanthispete Kirby's Black Panther in a cool animated panel.                                         \n",
       "...                                                                                       ...                                         \n",
       "1416  @bolain_branden @GrimsToyShow grim should find broken Matt hardy because he can delete everything lol                           \n",
       "1417  OOOOOOOOH MY GOD UUUUGGGGHHHHHHHHH #rage                                                                                        \n",
       "1418  God, I've been so physically weak the whole day. So much shaking :(                                                             \n",
       "1419  @MarkTOByrne I offered @WholeFoods @amazon @CheapAir gold or silver but they said Nah... #bitcoin #snap                         \n",
       "1420  Listening to Joey really helps me and my anger.                                                                                 \n",
       "\n",
       "         anger   disgust      fear       joy   sadness highest_emotion  \n",
       "0     0.070598  0.064689  0.095394  0.032086  0.607643  sadness         \n",
       "1     0.037618  0.077156  0.062490  0.378703  0.413911  sadness         \n",
       "2     0.437432  0.277860  0.100173  0.006432  0.138271  anger           \n",
       "3     0.062003  0.084426  0.445752  0.083973  0.111409  fear            \n",
       "4     0.015538  0.012702  0.033327  0.593795  0.089334  joy             \n",
       "...        ...       ...       ...       ...       ...  ...             \n",
       "1416  0.051286  0.244470  0.482605  0.018281  0.224427  fear            \n",
       "1417  0.494773  0.039164  0.078011  0.304176  0.069942  anger           \n",
       "1418  0.060083  0.023595  0.394856  0.088114  0.652688  sadness         \n",
       "1419  0.056611  0.038070  0.064140  0.476529  0.214435  joy             \n",
       "1420  0.812485  0.008339  0.011402  0.437676  0.048700  anger           \n",
       "\n",
       "[1421 rows x 7 columns]"
      ]
     },
     "execution_count": 83,
     "metadata": {},
     "output_type": "execute_result"
    }
   ],
   "source": [
    "emotion_df = pd.DataFrame(output, columns=['text', 'emotions'])\n",
    "emotion_df = pd.concat([emotion_df, emotion_df[\"emotions\"].apply(pd.Series)], axis=1)\n",
    "emotion_df = emotion_df.drop(['emotions'], axis=1)\n",
    "emotion_df['highest_emotion'] = emotion_df[['anger', 'disgust', 'fear', 'joy', 'sadness']].idxmax(axis=1)\n",
    "emotion_df"
   ]
  },
  {
   "cell_type": "code",
   "execution_count": 84,
   "id": "1dd853f2",
   "metadata": {},
   "outputs": [
    {
     "data": {
      "text/plain": [
       "Text(0.5, 1.0, 'Test dataset labels')"
      ]
     },
     "execution_count": 84,
     "metadata": {},
     "output_type": "execute_result"
    },
    {
     "data": {
      "image/png": "[encoded data removed]",
      "text/plain": [
       "<Figure size 2000x1000 with 2 Axes>"
      ]
     },
     "metadata": {},
     "output_type": "display_data"
    }
   ],
   "source": [
    "figure, ax = plt.subplots(ncols=2, figsize=(20,10))\n",
    "figure.tight_layout(pad=5)\n",
    "sns.countplot(x=emotion_df['highest_emotion'],  data=emotion_df['highest_emotion'], order=emotion_df['highest_emotion'].value_counts().sort_index().index, ax=ax[0])\n",
    "for p, label in zip(ax[0].patches, emotion_df['highest_emotion'].value_counts().sort_index()): \n",
    "    ax[0].annotate(label, (p.get_x()+0.35, p.get_height()+0.5))\n",
    "ax[0].set_title('Emotion model predictions')\n",
    "\n",
    "sns.countplot(x=test_df[\"label\"],  data=test_df[\"label\"], order=test_df[\"label\"].value_counts().sort_index().index, ax=ax[1])\n",
    "for p, label in zip(ax[1].patches, test_df[\"label\"].value_counts().sort_index()):   \n",
    "    ax[1].annotate(label, (p.get_x()+0.35, p.get_height()+0.5))\n",
    "ax[1].set_title('Test dataset labels')"
   ]
  },
  {
   "cell_type": "markdown",
   "id": "6965d599",
   "metadata": {},
   "source": [
    "## 6. Summary"
   ]
  },
  {
   "cell_type": "markdown",
   "id": "2bdb1d73",
   "metadata": {},
   "source": [
    "<span style=\"color:blue\">This notebook shows you how to use the Watson NLP library and how quickly and easily you can get started with Watson NLP by running the pretrained models for emotion analysis."
   ]
  },
  {
   "cell_type": "code",
   "execution_count": null,
   "id": "931c1208",
   "metadata": {},
   "outputs": [],
   "source": []
  },
  {
   "cell_type": "markdown",
   "id": "41664208",
   "metadata": {},
   "source": [
    "Please note that this content is made available by IBM Build Lab to foster Embedded AI technology adoption. The content may include systems & methods pending patent with USPTO and protected under US Patent Laws. For redistribution of this content, IBM will use release process. For any questions please log an issue in the hosting [GitHub](https://github.com/ibm-build-labs/Watson-NLP) repository. \n",
    "\n",
    "Developed by IBM Build Lab \n",
    "\n",
    "Copyright - 2022 IBM Corporation "
   ]
  },
  {
   "cell_type": "code",
   "execution_count": null,
   "id": "3bb14c2a",
   "metadata": {},
   "outputs": [],
   "source": []
  }
 ],
 "metadata": {
  "kernelspec": {
   "display_name": "Python 3.10",
   "language": "python",
   "name": "python3"
  },
  "language_info": {
   "codemirror_mode": {
    "name": "ipython",
    "version": 3
   },
   "file_extension": ".py",
   "mimetype": "text/x-python",
   "name": "python",
   "nbconvert_exporter": "python",
   "pygments_lexer": "ipython3",
   "version": "3.10.6"
  }
 },
 "nbformat": 4,
 "nbformat_minor": 5
}
